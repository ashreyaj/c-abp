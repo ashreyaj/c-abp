{
 "cells": [
  {
   "cell_type": "code",
   "execution_count": 2,
   "metadata": {},
   "outputs": [],
   "source": [
    "import numpy as np\n",
    "import matplotlib.pyplot as plt\n",
    "import pickle\n",
    "import ipywidgets as widgets\n",
    "import sys\n",
    "sys.path.append(\"/Users/ash/utilities\")\n",
    "import utilities as ut"
   ]
  },
  {
   "cell_type": "code",
   "execution_count": 12,
   "metadata": {},
   "outputs": [
    {
     "data": {
      "application/vnd.jupyter.widget-view+json": {
       "model_id": "c74ebf74ad0644b2824728f4df63c6c0",
       "version_major": 2,
       "version_minor": 0
      },
      "text/plain": [
       "interactive(children=(IntSlider(value=99, description='t', max=199), Output()), _dom_classes=('widget-interact…"
      ]
     },
     "metadata": {},
     "output_type": "display_data"
    },
    {
     "data": {
      "text/plain": [
       "<function __main__.animate(t, r, phi)>"
      ]
     },
     "execution_count": 12,
     "metadata": {},
     "output_type": "execute_result"
    }
   ],
   "source": [
    "rcon = 7.051282051282051\n",
    "width = 0.2564102564102564\n",
    "v = 0.6\n",
    "phi = 1.2\n",
    "f = 800.0\n",
    "al = 1.0\n",
    "indir = \"./out\"\n",
    "fname = \"{}/v{}phi{}f{}al{}.pickle\".format(indir,v,phi,f,al)\n",
    "with open(fname,'rb') as handle:\n",
    "    data = pickle.load(handle)\n",
    "r = data['r']\n",
    "phi = data['phi']\n",
    "def animate(t,r,phi):\n",
    "    x = r[t,:,0]\n",
    "    y = r[t,:,1]\n",
    "    ut.circles(x,y,0.5,c=range(len(x)),cmap='gnuplot')\n",
    "    # ut.circles(0,0,rcon,'k',fc='None')\n",
    "    # ut.circles(0,0,rcon+width,'k',fc='None')\n",
    "    plt.gca().set_aspect(1)\n",
    "widgets.interact(animate, t=(0,len(r)-1,1), r=widgets.fixed(r), phi=widgets.fixed(phi))"
   ]
  },
  {
   "cell_type": "code",
   "execution_count": 41,
   "metadata": {},
   "outputs": [
    {
     "data": {
      "application/vnd.jupyter.widget-view+json": {
       "model_id": "96e5473fa1a743b18672dfa8c6cd60f2",
       "version_major": 2,
       "version_minor": 0
      },
      "text/plain": [
       "interactive(children=(IntSlider(value=99, description='t', max=199), Output()), _dom_classes=('widget-interact…"
      ]
     },
     "metadata": {},
     "output_type": "display_data"
    },
    {
     "data": {
      "text/plain": [
       "<function __main__.animate(t, fname)>"
      ]
     },
     "execution_count": 41,
     "metadata": {},
     "output_type": "execute_result"
    }
   ],
   "source": [
    "rcon = 7.051282051282051\n",
    "width = 0.2564102564102564\n",
    "v = 0.6\n",
    "phi = 1.2\n",
    "f = 300.0\n",
    "al = 0.0\n",
    "indir = \"./out\"\n",
    "fname = \"{}/v{}phi{}f{}al{}\".format(indir,v,phi,f,al)\n",
    "def animate(t,fname):\n",
    "    x,y,phi = np.loadtxt(\"{}_{}.dat\".format(fname,t),unpack=1)\n",
    "    ut.circles(x,y,0.5,'r')\n",
    "    ut.circles(0,0,rcon,'k',fc='None')\n",
    "    ut.circles(0,0,rcon+width,'k',fc='None')\n",
    "    plt.gca().set_aspect(1)\n",
    "widgets.interact(animate, t=(0,len(r)-1,1), fname=widgets.fixed(fname))"
   ]
  },
  {
   "cell_type": "code",
   "execution_count": null,
   "metadata": {},
   "outputs": [],
   "source": []
  }
 ],
 "metadata": {
  "kernelspec": {
   "display_name": "base",
   "language": "python",
   "name": "python3"
  },
  "language_info": {
   "codemirror_mode": {
    "name": "ipython",
    "version": 3
   },
   "file_extension": ".py",
   "mimetype": "text/x-python",
   "name": "python",
   "nbconvert_exporter": "python",
   "pygments_lexer": "ipython3",
   "version": "3.9.16"
  },
  "orig_nbformat": 4
 },
 "nbformat": 4,
 "nbformat_minor": 2
}
